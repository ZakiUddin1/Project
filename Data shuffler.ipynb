{
 "cells": [
  {
   "cell_type": "code",
   "execution_count": 1,
   "metadata": {
    "collapsed": true
   },
   "outputs": [],
   "source": [
    "#importing modules\n",
    "import numpy as np #numerical python module\n",
    "#from astropy.io import fits #astro python module, with the FITS subpackage\n",
    "from astropy.table import Table #gets the subpackage to allow creation of a Table object\n",
    "import matplotlib.pyplot as plt #allows us to create graphs, crucial for this task\n",
    "%matplotlib inline\n",
    "#plots graphs in the same ipython notebook\n",
    "#from IPython.display import Image #needed to import a remote image later\n",
    "import matplotlib.mlab as mlab\n",
    "#from astropy import units as u #subpackage that handles converting between physical quantities e.g. debrees, radians, seconds, Hz etc.\n",
    "import pandas as pd #pandas package\n",
    "#import plotly.plotly as py #plotly package\n",
    "#import plotly.graph_objs as go\n",
    "#import astropy.coordinates as coord #subpackage that provides classes to represent a variety of celestial/spatial coordinates, and velocity units\n",
    "import seaborn as sns\n",
    "from scipy import stats\n",
    "from scipy.stats import norm\n",
    "import csv"
   ]
  },
  {
   "cell_type": "code",
   "execution_count": 17,
   "metadata": {},
   "outputs": [],
   "source": [
    "data = np.loadtxt('GAMA_Y3_unlabelled.csv', delimiter=',')"
   ]
  },
  {
   "cell_type": "code",
   "execution_count": 18,
   "metadata": {},
   "outputs": [],
   "source": [
    "np.random.shuffle(data)\n",
    "np.savetxt(\"GAMA_Y3_unlabelled_random.csv\", data, delimiter=\",\")"
   ]
  },
  {
   "cell_type": "code",
   "execution_count": null,
   "metadata": {
    "collapsed": true
   },
   "outputs": [],
   "source": []
  }
 ],
 "metadata": {
  "kernelspec": {
   "display_name": "Python 3",
   "language": "python",
   "name": "python3"
  },
  "language_info": {
   "codemirror_mode": {
    "name": "ipython",
    "version": 3
   },
   "file_extension": ".py",
   "mimetype": "text/x-python",
   "name": "python",
   "nbconvert_exporter": "python",
   "pygments_lexer": "ipython3",
   "version": "3.6.3"
  }
 },
 "nbformat": 4,
 "nbformat_minor": 2
}
