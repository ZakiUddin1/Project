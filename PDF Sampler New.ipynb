{
 "cells": [
  {
   "cell_type": "markdown",
   "metadata": {},
   "source": [
    "# Import modules"
   ]
  },
  {
   "cell_type": "code",
   "execution_count": 2,
   "metadata": {
    "collapsed": true
   },
   "outputs": [],
   "source": [
    "#importing modules\n",
    "import numpy as np\n",
    "import pandas as pd \n",
    "import scipy\n",
    "from scipy import stats\n",
    "from scipy.stats import norm\n",
    "import csv"
   ]
  },
  {
   "cell_type": "code",
   "execution_count": 3,
   "metadata": {
    "collapsed": true
   },
   "outputs": [],
   "source": [
    "#import the data files as dataframes in pandas\n",
    "mags_optim = pd.read_csv('ANNZ_randomReg_0000_mags_optim_eval.csv').reset_index().values\n",
    "mags_eval = pd.read_csv('ANNZ_randomReg_0000_mags_eval.csv').reset_index().values\n",
    "colors_optim = pd.read_csv('ANNZ_randomReg_0000_colors_optim_eval.csv').reset_index().values\n",
    "colors_eval = pd.read_csv('ANNZ_randomReg_0000_colors_eval.csv').reset_index().values"
   ]
  },
  {
   "cell_type": "code",
   "execution_count": null,
   "metadata": {
    "collapsed": true
   },
   "outputs": [],
   "source": [
    "file_type = {'mags_optim':mags_optim, 'mags_eval':mags_eval, 'colors_optim':colors_optim, 'colors_eval':colors_eval} #create a dictionary holding the file arrays\n",
    "ztype = globals() #to hold the variables related to z\n",
    "pdf_sets = globals() #to hold the arrays for each PDF\n",
    "pdf_size = np.linspace(0.0,1.0,200) #the number of points in each PDF, same for both sets, and was set to 200 intervals"
   ]
  },
  {
   "cell_type": "code",
   "execution_count": null,
   "metadata": {
    "collapsed": true
   },
   "outputs": [],
   "source": [
    "for k, v in file_type.items(): #iterate through the keys and their respective values(arrays) in the file_type dictionary\n",
    "    ztype['{}_range'.format(k)] = len(v) #find the length of each array\n",
    "    if 'optim' in k: #run for optimisation files, need to differentiate due to slightly different positioning of values in optimisation and evaluation csv files\n",
    "        for l in range (0, ztype['{}_range'.format(k)]):\n",
    "            pdf_sets['{}_row{}'.format(k, l)] = v[[l], None, :]\n",
    "            pdf_sets['{}_row{}_reshape'.format(k, l)] = np.reshape(pdf_sets['{}_row{}'.format(k, l)], (417,1))\n",
    "            pdf_sets['{}_row{}_zpdf0'.format(k, l)] = pdf_sets['{}_row{}_reshape'.format(k, l)][11:211]\n",
    "            pdf_sets['{}_row{}_zpdf1'.format(k, l)] = pdf_sets['{}_row{}_reshape'.format(k, l)][217:417]\n",
    "    elif 'eval' in k: #run for evaluation csvs\n",
    "        for l in range (0, ztype['{}_range'.format(k)]):\n",
    "            pdf_sets['{}_row{}'.format(k, l)] = v[[l], None, :]\n",
    "            pdf_sets['{}_row{}_reshape'.format(k, l)] = np.reshape(pdf_sets['{}_row{}'.format(k, l)], (420,1))\n",
    "            pdf_sets['{}_row{}_zpdf0'.format(k, l)] = pdf_sets['{}_row{}_reshape'.format(k, l)][14:214]\n",
    "            pdf_sets['{}_row{}_zpdf1'.format(k, l)] = pdf_sets['{}_row{}_reshape'.format(k, l)][220:420]\n",
    "    else:\n",
    "        print('File type not recognised, please include the strings \"optim\" or \"eval\" in file name, depending on file type')"
   ]
  },
  {
   "cell_type": "code",
   "execution_count": null,
   "metadata": {
    "collapsed": true
   },
   "outputs": [],
   "source": [
    "for k in file_type.keys():\n",
    "    for r in range(0, 2):\n",
    "        pdf_names['{}_zpdf{}_sample_array'.format(k, r)] = np.zeros([1,1])\n",
    "        for l in range (0, ztype['{}_range'.format(k)]): #run for the length of the dataset\n",
    "            pdf_names['{}_row{}_zpdf{}_1D'.format(k, l, r)] = np.reshape(pdf_names['{}_row{}_zpdf{}'.format(k, l, r)], len(pdf_names['{}_row{}_pdf{}'.format(k, l, r)])) #reshape each PDF array from a 2D into a 1D array, required in order to use np.random.choice \n",
    "            pdf_names['{}_row{}_zpdf{}_1D'.format(k, l, r)] /= pdf_names['{}_row{}_zpdf{}_1D'.format(k, l, r)].sum() #normalise the PDF sums to equal 1, as the p variable in np.random.choice needs to be equal to 1, and the sums are not precisely equal to 1 (but close)\n",
    "            pdf_names['{}_row{}_zpdf{}_sample'.format(k, l, r)] = np.random.choice(pdf_array_size, p=pdf_names['mags_o_e_row_%d_pdf_0_1D' % v]) #create a z value for each entry, using the PDF values for each entry to represent the probabilities  \n",
    "            pdf_names['{}_zpdf{}_sample_array'.format(k, r)] = np.append(pdf_names['{}_zpdf{}_sample_array'.format(k, r)], pdf_names['{}_row{}_zpdf{}_sample'.format(k, l, r)]) #append the values onto the array \n",
    "\n",
    "        pdf_names['{}_zpdf{}_sample_array'.format(k, r)] = pdf_names['{}_zpdf{}_sample_array'.format(k, r)][1:]"
   ]
  },
  {
   "cell_type": "code",
   "execution_count": null,
   "metadata": {
    "collapsed": true
   },
   "outputs": [],
   "source": [
    "for k in file_type.keys():\n",
    "    for r in range(0, 2):\n",
    "        pdf_names['{}_zpdf{}_sample_array'.format(k, r)].tofile('{}_zpdf{}_sample_array.csv'.format(k, r),sep=',',format='%10.5f')"
   ]
  }
 ],
 "metadata": {
  "kernelspec": {
   "display_name": "Python 3",
   "language": "python",
   "name": "python3"
  },
  "language_info": {
   "codemirror_mode": {
    "name": "ipython",
    "version": 3
   },
   "file_extension": ".py",
   "mimetype": "text/x-python",
   "name": "python",
   "nbconvert_exporter": "python",
   "pygments_lexer": "ipython3",
   "version": "3.6.3"
  }
 },
 "nbformat": 4,
 "nbformat_minor": 2
}
